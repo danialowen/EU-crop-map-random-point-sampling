{
 "cells": [
  {
   "cell_type": "markdown",
   "id": "b0c6cadb-90ca-485c-be58-12d7270d3e5c",
   "metadata": {},
   "source": [
    "# Random sampling of 200 cropland raster cells: EU Crop Map 2018\n",
    "\n",
    "This notebook reads in the EU Crop Map 2018 data and selects 200 random cropland cells for a specified NUTS2 region. All data are open source:  \n",
    "- [EU Crop Map 2018](https://data.jrc.ec.europa.eu/collection/id-00346)\n",
    "- [NUTS2 Boundaries](https://ec.europa.eu/eurostat/web/gisco/geodata/statistical-units/territorial-units-statistics)\n",
    "- [Crop Yields](https://gaez.fao.org/)"
   ]
  },
  {
   "cell_type": "markdown",
   "id": "6c30c123-d3fa-4fe8-9503-8ba9dd114d7d",
   "metadata": {},
   "source": [
    "### Read in libraries and data"
   ]
  },
  {
   "cell_type": "code",
   "execution_count": 2,
   "id": "03b09609-de97-425a-b7a8-ac0f07f7c120",
   "metadata": {},
   "outputs": [],
   "source": [
    "import pandas as pd\n",
    "import matplotlib.pyplot as plt\n",
    "import numpy as np\n",
    "import rasterio\n",
    "from rasterio.plot import show\n",
    "from rasterio import features\n",
    "from rasterio.features import dataset_features\n",
    "from rasterio.mask import mask\n",
    "import geopandas as gpd\n",
    "import time\n",
    "import random\n",
    "from shapely.geometry import Point"
   ]
  },
  {
   "cell_type": "code",
   "execution_count": 4,
   "id": "1e55dbeb-cc6b-4120-974a-bce3ca4a2de2",
   "metadata": {},
   "outputs": [
    {
     "name": "stdout",
     "output_type": "stream",
     "text": [
      "CPU times: total: 46.9 ms\n",
      "Wall time: 105 ms\n"
     ]
    }
   ],
   "source": [
    "%%time\n",
    "# Read in EU crop map 2018\n",
    "eu_crop_map_full = rasterio.open(\"../../../Data/EU_Crop_Map/EUCROPMAP_2018.tif\")"
   ]
  },
  {
   "cell_type": "code",
   "execution_count": 6,
   "id": "08ddb652-109d-4ce4-b18b-da9beb4d9743",
   "metadata": {},
   "outputs": [
    {
     "name": "stdout",
     "output_type": "stream",
     "text": [
      "CPU times: total: 188 ms\n",
      "Wall time: 527 ms\n"
     ]
    }
   ],
   "source": [
    "%%time\n",
    "# Read in selected NUTS boundaries\n",
    "NUTS_ES24 = gpd.read_file(\"../../../Data/Yield_Chain/random_NUTS/Selected_by_els/NUTS2_ES24.shp\")\n",
    "NUTS_FRC1 = gpd.read_file(\"../../../Data/Yield_Chain/random_NUTS/Selected_by_els/NUTS2_FRC1.shp\")\n",
    "NUTS_PL42 = gpd.read_file(\"../../../Data/Yield_Chain/random_NUTS/Selected_by_els/NUTS2_PL42.shp\")\n",
    "NUTS_BG31 = gpd.read_file(\"../../../Data/Yield_Chain/random_NUTS/Selected_by_els/NUTS2_BG31.shp\")"
   ]
  },
  {
   "cell_type": "markdown",
   "id": "80c34bf6-1838-4241-a003-1346cc22c80d",
   "metadata": {},
   "source": [
    "### Tiday Data"
   ]
  },
  {
   "cell_type": "code",
   "execution_count": 8,
   "id": "600ff625-7ca8-48f3-b905-328b27949a6a",
   "metadata": {},
   "outputs": [
    {
     "name": "stdout",
     "output_type": "stream",
     "text": [
      "CPU times: total: 10 s\n",
      "Wall time: 12.6 s\n"
     ]
    }
   ],
   "source": [
    "%%time\n",
    "# Clip EU crop map to France NUTS example\n",
    "with rasterio.open(\"../../../Data/EU_Crop_Map/EUCROPMAP_2018.tif\") as src:\n",
    "        masked, transform = mask(src, NUTS_FRC1.geometry, crop=True)"
   ]
  },
  {
   "cell_type": "code",
   "execution_count": 9,
   "id": "9a87a36e-8763-47d3-bf32-c8a8b270a988",
   "metadata": {},
   "outputs": [
    {
     "name": "stdout",
     "output_type": "stream",
     "text": [
      "CPU times: total: 1.14 s\n",
      "Wall time: 1.17 s\n"
     ]
    }
   ],
   "source": [
    "%%time\n",
    "# Reclassify raster to binary to reflect cropland \n",
    "masked_reclassified = np.where((masked > 100) & (masked < 300), 1, 0)\n",
    "# Get rid of one set of square brackets\n",
    "masked_reclassified = np.squeeze(masked_reclassified)"
   ]
  },
  {
   "cell_type": "code",
   "execution_count": 10,
   "id": "1e6e546b-1911-4865-9fe9-141fa4e88418",
   "metadata": {},
   "outputs": [],
   "source": [
    "# convert numpy array to pandas dataframe\n",
    "masked_reclassified_df = pd.DataFrame(masked_reclassified)"
   ]
  },
  {
   "cell_type": "markdown",
   "id": "c42e9105-ac38-484d-b747-d7dbbeb6f1ad",
   "metadata": {},
   "source": [
    "### Select 200 random raster cells and write out as new raster"
   ]
  },
  {
   "cell_type": "code",
   "execution_count": 14,
   "id": "b09aaae1-5163-4c9f-bde9-1c6ee59d70fd",
   "metadata": {},
   "outputs": [
    {
     "name": "stdout",
     "output_type": "stream",
     "text": [
      "CPU times: total: 3.3 s\n",
      "Wall time: 3.43 s\n"
     ]
    }
   ],
   "source": [
    "%%time\n",
    "# Select the rows and cols where raster equals cropland (1)\n",
    "ones_list = np.argwhere(masked_reclassified == 1)\n",
    "# Set random seed\n",
    "random.seed(1)\n",
    "# Select the indeces of 200 random ones\n",
    "idx = random.sample(range(1, len(ones_list)), 200)\n",
    "# Extract them to a list and replace inner square brackets with round brackets\n",
    "selected_ones = ones_list[idx,:].tolist()\n",
    "selected_ones = [tuple(i) for i in selected_ones]"
   ]
  },
  {
   "cell_type": "code",
   "execution_count": 16,
   "id": "21d572a0-a4ce-4933-88ee-6af867894347",
   "metadata": {},
   "outputs": [
    {
     "name": "stdout",
     "output_type": "stream",
     "text": [
      "CPU times: total: 266 ms\n",
      "Wall time: 276 ms\n"
     ]
    }
   ],
   "source": [
    "%%time\n",
    "# Replace all values with 0\n",
    "masked_reclassified_df[:] = 0\n",
    "# Set the selected positions to 1\n",
    "for pos in selected_ones:\n",
    "    masked_reclassified_df.iloc[pos] = 1"
   ]
  },
  {
   "cell_type": "code",
   "execution_count": 18,
   "id": "e443400e-ba96-4fad-bc82-3426dc1849c8",
   "metadata": {},
   "outputs": [
    {
     "name": "stdout",
     "output_type": "stream",
     "text": [
      "CPU times: total: 0 ns\n",
      "Wall time: 0 ns\n"
     ]
    }
   ],
   "source": [
    "%%time\n",
    "output_array = masked_reclassified_df.to_numpy()"
   ]
  },
  {
   "cell_type": "code",
   "execution_count": 20,
   "id": "942d5447-094b-47f9-9bf3-c27c17fee855",
   "metadata": {},
   "outputs": [
    {
     "data": {
      "text/plain": [
       "200"
      ]
     },
     "execution_count": 20,
     "metadata": {},
     "output_type": "execute_result"
    }
   ],
   "source": [
    "np.count_nonzero(output_array)"
   ]
  },
  {
   "cell_type": "code",
   "execution_count": 40,
   "id": "b9130477-6a95-489e-8c2b-716bc241749c",
   "metadata": {},
   "outputs": [
    {
     "name": "stdout",
     "output_type": "stream",
     "text": [
      "CPU times: total: 4.48 s\n",
      "Wall time: 6.11 s\n"
     ]
    }
   ],
   "source": [
    "%%time\n",
    "out_meta=eu_crop_map_full.meta.copy() # copy the metadata of the source \n",
    "    \n",
    "out_meta.update({\n",
    "    \"driver\":\"Gtiff\",\n",
    "    \"height\":masked.shape[1], # height starts with shape[1]\n",
    "    \"width\":masked.shape[2], # width starts with shape[2]\n",
    "    \"transform\":transform\n",
    "})\n",
    "              \n",
    "with rasterio.open(\"../../../Data/EU_Crop_Map/first_run_prop_sampling/reclassified_for_Els/EU_CropMap_NUTS2_FRC1.tif\",'w',**out_meta) as dst:\n",
    "    dst.write(output_array, 1)"
   ]
  },
  {
   "cell_type": "markdown",
   "id": "612d43ab-3802-4529-a072-c3aad772e180",
   "metadata": {},
   "source": [
    "### Create a vector point for each selected random raster cell"
   ]
  },
  {
   "cell_type": "code",
   "execution_count": 22,
   "id": "81af0505-7fb2-453d-9fcf-33ff882d058f",
   "metadata": {},
   "outputs": [],
   "source": [
    "# Open the raster file\n",
    "with rasterio.open(\"../../../Data/EU_Crop_Map/first_run_prop_sampling/reclassified_for_Els/EU_CropMap_NUTS2_FRC1.tif\") as src:\n",
    "    # Read the first band of the raster\n",
    "    raster_data = src.read(1)\n",
    "    # Get the affine transformation (maps pixel coordinates to geographic coordinates)\n",
    "    transform = src.transform\n",
    "    # Get the width and height of a cell\n",
    "    cell_width = transform.a    # Pixel width (horizontal resolution)\n",
    "    cell_height = -transform.e  # Pixel height (vertical resolution, negative because y decreases)\n",
    "    # Find the indices where raster value is 1\n",
    "    rows, cols = (raster_data == 1).nonzero()\n",
    "    # Convert the raster indices (rows, cols) to coordinates (x, y)\n",
    "    points = [Point(transform * (col + 0.5, row + 0.5)) for row, col in zip(rows, cols)]"
   ]
  },
  {
   "cell_type": "code",
   "execution_count": 23,
   "id": "b1feab4a-8602-4ad3-ac90-e25a12d8c9b9",
   "metadata": {},
   "outputs": [],
   "source": [
    "# Create a GeoDataFrame with the points\n",
    "rand_points_gdf = gpd.GeoDataFrame(geometry=points)\n",
    "\n",
    "# Optionally, set a CRS (Coordinate Reference System) if known\n",
    "rand_points_gdf.set_crs(src.crs, inplace=True)\n",
    "#rand_points_gdf.to_file(\"../../../Data/EU_Crop_Map/first_run_prop_sampling/reclassified_for_Els/random_points_test.gpkg\")\n",
    "rand_points_gdf = rand_points_gdf.to_crs('epsg:4326')"
   ]
  },
  {
   "cell_type": "markdown",
   "id": "4a694104-dde7-4ad7-aec2-3ea6bc1d5db3",
   "metadata": {},
   "source": [
    "### Sample raster data from points"
   ]
  },
  {
   "cell_type": "code",
   "execution_count": 26,
   "id": "aa420d8c-e196-4e1b-86f6-8e9ec147af9a",
   "metadata": {},
   "outputs": [],
   "source": [
    "# Read in yield data\n",
    "yield_barley_conv = rasterio.open(\"../../../Data/GAEZ/rainfed_high/reclassified_and_clipped/ycHr_brl.tif\")"
   ]
  },
  {
   "cell_type": "code",
   "execution_count": 28,
   "id": "956b075f-9b83-4b66-8d32-0122642e247e",
   "metadata": {},
   "outputs": [],
   "source": [
    "# Extract x and y of each point\n",
    "coord_list = [(x, y) for x, y in zip(rand_points_gdf[\"geometry\"].x, rand_points_gdf[\"geometry\"].y)]"
   ]
  },
  {
   "cell_type": "code",
   "execution_count": 30,
   "id": "49cd5277-106a-46be-ad7f-0f6c95408583",
   "metadata": {},
   "outputs": [
    {
     "name": "stdout",
     "output_type": "stream",
     "text": [
      "CPU times: total: 46.9 ms\n",
      "Wall time: 41 ms\n"
     ]
    },
    {
     "data": {
      "text/html": [
       "<div>\n",
       "<style scoped>\n",
       "    .dataframe tbody tr th:only-of-type {\n",
       "        vertical-align: middle;\n",
       "    }\n",
       "\n",
       "    .dataframe tbody tr th {\n",
       "        vertical-align: top;\n",
       "    }\n",
       "\n",
       "    .dataframe thead th {\n",
       "        text-align: right;\n",
       "    }\n",
       "</style>\n",
       "<table border=\"1\" class=\"dataframe\">\n",
       "  <thead>\n",
       "    <tr style=\"text-align: right;\">\n",
       "      <th></th>\n",
       "      <th>geometry</th>\n",
       "      <th>conv_value</th>\n",
       "      <th>org_value</th>\n",
       "    </tr>\n",
       "  </thead>\n",
       "  <tbody>\n",
       "    <tr>\n",
       "      <th>0</th>\n",
       "      <td>POINT (3.44191 48.37425)</td>\n",
       "      <td>5793.0</td>\n",
       "      <td>2896.5</td>\n",
       "    </tr>\n",
       "    <tr>\n",
       "      <th>1</th>\n",
       "      <td>POINT (3.36917 48.36675)</td>\n",
       "      <td>8227.0</td>\n",
       "      <td>4113.5</td>\n",
       "    </tr>\n",
       "    <tr>\n",
       "      <th>2</th>\n",
       "      <td>POINT (3.45299 48.35163)</td>\n",
       "      <td>5793.0</td>\n",
       "      <td>2896.5</td>\n",
       "    </tr>\n",
       "    <tr>\n",
       "      <th>3</th>\n",
       "      <td>POINT (3.31237 48.32505)</td>\n",
       "      <td>6189.0</td>\n",
       "      <td>3094.5</td>\n",
       "    </tr>\n",
       "    <tr>\n",
       "      <th>4</th>\n",
       "      <td>POINT (3.47600 48.31635)</td>\n",
       "      <td>7675.0</td>\n",
       "      <td>3837.5</td>\n",
       "    </tr>\n",
       "    <tr>\n",
       "      <th>5</th>\n",
       "      <td>POINT (3.07819 48.27765)</td>\n",
       "      <td>8253.0</td>\n",
       "      <td>4126.5</td>\n",
       "    </tr>\n",
       "    <tr>\n",
       "      <th>6</th>\n",
       "      <td>POINT (3.06821 48.26565)</td>\n",
       "      <td>8253.0</td>\n",
       "      <td>4126.5</td>\n",
       "    </tr>\n",
       "    <tr>\n",
       "      <th>7</th>\n",
       "      <td>POINT (3.57176 48.29047)</td>\n",
       "      <td>6162.0</td>\n",
       "      <td>3081.0</td>\n",
       "    </tr>\n",
       "    <tr>\n",
       "      <th>8</th>\n",
       "      <td>POINT (3.00764 48.23888)</td>\n",
       "      <td>7854.0</td>\n",
       "      <td>3927.0</td>\n",
       "    </tr>\n",
       "    <tr>\n",
       "      <th>9</th>\n",
       "      <td>POINT (3.43711 48.26259)</td>\n",
       "      <td>7675.0</td>\n",
       "      <td>3837.5</td>\n",
       "    </tr>\n",
       "  </tbody>\n",
       "</table>\n",
       "</div>"
      ],
      "text/plain": [
       "                   geometry  conv_value  org_value\n",
       "0  POINT (3.44191 48.37425)      5793.0     2896.5\n",
       "1  POINT (3.36917 48.36675)      8227.0     4113.5\n",
       "2  POINT (3.45299 48.35163)      5793.0     2896.5\n",
       "3  POINT (3.31237 48.32505)      6189.0     3094.5\n",
       "4  POINT (3.47600 48.31635)      7675.0     3837.5\n",
       "5  POINT (3.07819 48.27765)      8253.0     4126.5\n",
       "6  POINT (3.06821 48.26565)      8253.0     4126.5\n",
       "7  POINT (3.57176 48.29047)      6162.0     3081.0\n",
       "8  POINT (3.00764 48.23888)      7854.0     3927.0\n",
       "9  POINT (3.43711 48.26259)      7675.0     3837.5"
      ]
     },
     "execution_count": 30,
     "metadata": {},
     "output_type": "execute_result"
    }
   ],
   "source": [
    "%%time\n",
    "rand_points_gdf_yield_vals = rand_points_gdf\n",
    "rand_points_gdf_yield_vals[\"conv_value\"] = [x for x in yield_barley_conv.sample(coord_list)]\n",
    "rand_points_gdf_yield_vals[\"conv_value\"] = rand_points_gdf_yield_vals[\"conv_value\"].str[0]\n",
    "\n",
    "rand_points_gdf_yield_vals[\"org_value\"] = rand_points_gdf_yield_vals[\"conv_value\"]*0.5\n",
    "#rand_points_gdf_yield_vals = rand_points_gdf_yield_vals.iloc[:, 1:]\n",
    "\n",
    "rand_points_gdf_yield_vals.head(10)"
   ]
  },
  {
   "cell_type": "markdown",
   "id": "8851c745-a1c1-4bc4-84bc-d9b63d28a8c9",
   "metadata": {},
   "source": [
    "### Results"
   ]
  },
  {
   "cell_type": "code",
   "execution_count": 32,
   "id": "29bf1524-7ab6-4d35-95a6-2110179ec7c7",
   "metadata": {},
   "outputs": [
    {
     "name": "stdout",
     "output_type": "stream",
     "text": [
      "Point Stats      \n",
      "-----------\n",
      "Number of Points: 200\n",
      "Number of Convent:  100\n",
      "Number of Organic:  100\n",
      " \n",
      "Yield Vals\n",
      "-----------\n",
      "Mean Yield Value:  6682.1425\n",
      "Conv Yield Value:  9140.185\n",
      "Org  Yield Value:  4570.0925\n"
     ]
    }
   ],
   "source": [
    "conv_perc=50\n",
    "org_perc=100-conv_perc\n",
    "\n",
    "# Calculate the mean yield value, sampling the first n percentage of rows from conv organic column and then 100-n of organic \n",
    "mean_val = ((rand_points_gdf['conv_value'].head(int(round(len(rand_points_gdf)*(conv_perc/100)))).sum()) + (rand_points_gdf['org_value'].tail(int((len(rand_points_gdf)) - (round(len(rand_points_gdf)*(conv_perc/100))))).sum())) / len(rand_points_gdf)\n",
    "\n",
    "print(\"Point Stats      \")\n",
    "print(\"-----------\")\n",
    "print(\"Number of Points:\", len(rand_points_gdf))\n",
    "print(\"Number of Convent: \", int(round(len(rand_points_gdf)*(conv_perc/100))))\n",
    "print(\"Number of Organic: \", int((len(rand_points_gdf)) - (round(len(rand_points_gdf)*(conv_perc/100)))))\n",
    "print(\" \")\n",
    "print(\"Yield Vals\")\n",
    "print(\"-----------\")\n",
    "print(\"Mean Yield Value: \", mean_val)\n",
    "print(\"Conv Yield Value: \", rand_points_gdf[\"conv_value\"].mean())\n",
    "print(\"Org  Yield Value: \", rand_points_gdf[\"org_value\"].mean())"
   ]
  }
 ],
 "metadata": {
  "kernelspec": {
   "display_name": "Python 3 (ipykernel)",
   "language": "python",
   "name": "python3"
  },
  "language_info": {
   "codemirror_mode": {
    "name": "ipython",
    "version": 3
   },
   "file_extension": ".py",
   "mimetype": "text/x-python",
   "name": "python",
   "nbconvert_exporter": "python",
   "pygments_lexer": "ipython3",
   "version": "3.12.4"
  }
 },
 "nbformat": 4,
 "nbformat_minor": 5
}
